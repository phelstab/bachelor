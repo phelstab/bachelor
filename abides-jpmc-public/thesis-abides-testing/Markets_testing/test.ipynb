{
 "cells": [
  {
   "cell_type": "code",
   "execution_count": 1,
   "metadata": {},
   "outputs": [],
   "source": [
    "import numpy as np\n",
    "import pandas as pd\n",
    "from matplotlib import pyplot as plt\n",
    "\n",
    "# Web Dash\n",
    "from flask import Flask\n",
    "import dash\n",
    "from dash import dcc, html\n",
    "import dash_bootstrap_components as dbc\n",
    "import plotly.express as px\n",
    "import plotly.graph_objects as go\n",
    "import datetime\n",
    "\n",
    "from abides_core import abides\n",
    "from abides_core.utils import parse_logs_df, ns_date, str_to_ns, fmt_ts\n",
    "from abides_markets.configs import rmsc05\n",
    "\n",
    "config = rmsc05.build_config(\n",
    "    end_time=\"10:00:00\"\n",
    ")\n"
   ]
  },
  {
   "cell_type": "code",
   "execution_count": 15,
   "metadata": {},
   "outputs": [
    {
     "data": {
      "text/plain": [
       "2.06886016"
      ]
     },
     "execution_count": 15,
     "metadata": {},
     "output_type": "execute_result"
    }
   ],
   "source": [
    "test = 2068860160\n",
    "\n",
    "# nanoseconds to seconds\n",
    "test = test / 1e9\n",
    "test\n",
    "\n",
    "# test = pd.Timestamp(test, unit=\"ns\").strftime(\"%H:%M:%S.%f\")\n",
    "\n",
    "# test"
   ]
  },
  {
   "cell_type": "code",
   "execution_count": 40,
   "metadata": {},
   "outputs": [
    {
     "data": {
      "text/plain": [
       "13"
      ]
     },
     "execution_count": 40,
     "metadata": {},
     "output_type": "execute_result"
    }
   ],
   "source": [
    "import random\n",
    "\n",
    "adjust_int = random.randint(\n",
    "                    0, min(9223372036854775807 - 1, 2 * 20)\n",
    "                )\n",
    "adjust_int"
   ]
  },
  {
   "cell_type": "code",
   "execution_count": 35,
   "metadata": {},
   "outputs": [
    {
     "data": {
      "text/plain": [
       "40"
      ]
     },
     "execution_count": 35,
     "metadata": {},
     "output_type": "execute_result"
    }
   ],
   "source": [
    "min(9223372036854775807 - 1, 2 * 20)"
   ]
  },
  {
   "cell_type": "code",
   "execution_count": 66,
   "metadata": {},
   "outputs": [
    {
     "name": "stdout",
     "output_type": "stream",
     "text": [
      "105.93751356441074\n"
     ]
    }
   ],
   "source": [
    "import math\n",
    "\n",
    "def expected_value(means, stddevs, weights):\n",
    "    ev = 0\n",
    "    for i, mean in enumerate(means):\n",
    "        if i == 0:  # Log Normal Distribution\n",
    "            ev += weights[i] * 37.33756782205366\n",
    "        else:  # Normal Distribution\n",
    "            ev += weights[i] * mean\n",
    "    return ev\n",
    "\n",
    "# Example\n",
    "means = [99999999999, 100.0, 200.0, 300.0, 400.0, 500.0, 600.0, 700.0, 800.0, 900.0, 1000.0]\n",
    "stddevs = [1.2, 0.2, 0.15, 0.15, 0.15, 0.15, 0.15, 0.15, 0.15, 0.15, 0.15]\n",
    "weights = [0.2, 0.7, 0.06, 0.004, 0.0329, 0.001, 0.0006, 0.0004, 0.0005, 0.0003, 0.0003]\n",
    "\n",
    "print(expected_value(means, stddevs, weights))  # Output: 172.8\n"
   ]
  },
  {
   "cell_type": "code",
   "execution_count": 67,
   "metadata": {},
   "outputs": [
    {
     "name": "stdout",
     "output_type": "stream",
     "text": [
      "0.9999999999999999\n"
     ]
    }
   ],
   "source": [
    "print(0.2+0.7+0.06+0.004+0.0329+0.001+0.0006+0.0004+0.0005+0.0003+0.0003)"
   ]
  },
  {
   "cell_type": "code",
   "execution_count": 70,
   "metadata": {},
   "outputs": [
    {
     "name": "stdout",
     "output_type": "stream",
     "text": [
      "0.9999999999999999\n"
     ]
    }
   ],
   "source": [
    "print(1 - 10**-16)"
   ]
  },
  {
   "cell_type": "code",
   "execution_count": 63,
   "metadata": {},
   "outputs": [
    {
     "data": {
      "text/plain": [
       "37.33756782205366"
      ]
     },
     "execution_count": 63,
     "metadata": {},
     "output_type": "execute_result"
    }
   ],
   "source": [
    "import math\n",
    "\n",
    "\n",
    "def log_normal_mean(location, scale):\n",
    "  return math.exp(location + 1/2 * scale**2)\n",
    "\n",
    "\n",
    "test = log_normal_mean(2.9, 1.2)\n",
    "test\n",
    "\n",
    "\n"
   ]
  },
  {
   "cell_type": "code",
   "execution_count": 59,
   "metadata": {},
   "outputs": [
    {
     "data": {
      "text/plain": [
       "[2.9, 100.0, 200.0, 300.0, 400.0, 500.0, 600.0, 700.0, 800.0, 900.0, 1000.0]"
      ]
     },
     "execution_count": 59,
     "metadata": {},
     "output_type": "execute_result"
    }
   ],
   "source": [
    "from pomegranate import GeneralMixtureModel\n",
    "import json\n",
    "import numpy as np\n",
    "\n",
    "order_size = {\n",
    "    \"class\": \"GeneralMixtureModel\",\n",
    "    \"distributions\": [\n",
    "        {\n",
    "            \"class\": \"Distribution\",\n",
    "            \"name\": \"LogNormalDistribution\",\n",
    "            \"parameters\": [2.9, 1.2],\n",
    "            \"frozen\": False,\n",
    "        },\n",
    "        {\n",
    "            \"class\": \"Distribution\",\n",
    "            \"name\": \"NormalDistribution\",\n",
    "            \"parameters\": [100.0, 0.2],\n",
    "            \"frozen\": True,\n",
    "        },\n",
    "        {\n",
    "            \"class\": \"Distribution\",\n",
    "            \"name\": \"NormalDistribution\",\n",
    "            \"parameters\": [200.0, 0.15],\n",
    "            \"frozen\": True,\n",
    "        },\n",
    "        {\n",
    "            \"class\": \"Distribution\",\n",
    "            \"name\": \"NormalDistribution\",\n",
    "            \"parameters\": [300.0, 0.15],\n",
    "            \"frozen\": True,\n",
    "        },\n",
    "        {\n",
    "            \"class\": \"Distribution\",\n",
    "            \"name\": \"NormalDistribution\",\n",
    "            \"parameters\": [400.0, 0.15],\n",
    "            \"frozen\": True,\n",
    "        },\n",
    "        {\n",
    "            \"class\": \"Distribution\",\n",
    "            \"name\": \"NormalDistribution\",\n",
    "            \"parameters\": [500.0, 0.15],\n",
    "            \"frozen\": True,\n",
    "        },\n",
    "        {\n",
    "            \"class\": \"Distribution\",\n",
    "            \"name\": \"NormalDistribution\",\n",
    "            \"parameters\": [600.0, 0.15],\n",
    "            \"frozen\": True,\n",
    "        },\n",
    "        {\n",
    "            \"class\": \"Distribution\",\n",
    "            \"name\": \"NormalDistribution\",\n",
    "            \"parameters\": [700.0, 0.15],\n",
    "            \"frozen\": True,\n",
    "        },\n",
    "        {\n",
    "            \"class\": \"Distribution\",\n",
    "            \"name\": \"NormalDistribution\",\n",
    "            \"parameters\": [800.0, 0.15],\n",
    "            \"frozen\": True,\n",
    "        },\n",
    "        {\n",
    "            \"class\": \"Distribution\",\n",
    "            \"name\": \"NormalDistribution\",\n",
    "            \"parameters\": [900.0, 0.15],\n",
    "            \"frozen\": True,\n",
    "        },\n",
    "        {\n",
    "            \"class\": \"Distribution\",\n",
    "            \"name\": \"NormalDistribution\",\n",
    "            \"parameters\": [1000.0, 0.15],\n",
    "            \"frozen\": True,\n",
    "        },\n",
    "    ],\n",
    "    \"weights\": [\n",
    "        # 0.0,\n",
    "        # 1.0,\n",
    "        # 0.0,\n",
    "        # 0.0,\n",
    "        # 0.0,\n",
    "        # 0.0,\n",
    "        # 0.0,\n",
    "        # 0.0,\n",
    "        # 0.0,\n",
    "        # 0.0,\n",
    "        # 0.0,\n",
    "        0.2,\n",
    "        0.7,\n",
    "        0.06,\n",
    "        0.004,\n",
    "        0.0329,\n",
    "        0.001,\n",
    "        0.0006,\n",
    "        0.0004,\n",
    "        0.0005,\n",
    "        0.0003,\n",
    "        0.0003,\n",
    "    ],\n",
    "}\n",
    "\n",
    "\n",
    "class OrderSizeModel:\n",
    "    def __init__(self) -> None:\n",
    "        self.model = GeneralMixtureModel.from_json(json.dumps(order_size))\n",
    "\n",
    "    def sample(self, random_state: np.random.RandomState) -> float:\n",
    "        return round(self.model.sample(random_state=random_state))\n",
    "\n",
    "\n",
    "# get overall means for order size\n",
    "def get_mean_order_size():\n",
    "    means = []\n",
    "    for i in range(0, 11):\n",
    "        means.append(order_size[\"distributions\"][i][\"parameters\"][0])\n",
    "    return means\n",
    "\n",
    "means = get_mean_order_size()\n",
    "means"
   ]
  },
  {
   "cell_type": "code",
   "execution_count": 112,
   "metadata": {},
   "outputs": [
    {
     "name": "stdout",
     "output_type": "stream",
     "text": [
      "100\n",
      "500\n",
      "2\n",
      "136\n",
      "100\n",
      "6\n",
      "200\n",
      "100\n",
      "3\n",
      "100\n",
      "100\n",
      "7\n",
      "100\n",
      "100\n",
      "200\n",
      "100\n",
      "100\n",
      "33\n",
      "8\n",
      "100\n",
      "100\n",
      "100\n",
      "100\n",
      "100\n",
      "100\n",
      "100\n",
      "100\n",
      "100\n",
      "34\n",
      "25\n",
      "200\n",
      "31\n",
      "4\n",
      "100\n",
      "8\n",
      "100\n",
      "100\n",
      "48\n",
      "100\n",
      "11\n",
      "100\n",
      "100\n",
      "100\n",
      "100\n",
      "100\n",
      "100\n",
      "100\n",
      "100\n",
      "100\n",
      "100\n",
      "43\n",
      "100\n",
      "100\n",
      "100\n",
      "20\n",
      "100\n",
      "40\n",
      "100\n",
      "100\n",
      "100\n",
      "100\n",
      "100\n",
      "100\n",
      "100\n",
      "100\n",
      "100\n",
      "12\n",
      "100\n",
      "100\n",
      "100\n",
      "100\n",
      "100\n",
      "500\n",
      "100\n",
      "100\n",
      "100\n",
      "100\n",
      "28\n",
      "100\n",
      "100\n",
      "100\n",
      "100\n",
      "31\n",
      "100\n",
      "100\n",
      "200\n",
      "400\n",
      "200\n",
      "100\n",
      "100\n",
      "100\n",
      "400\n",
      "200\n",
      "100\n",
      "100\n",
      "100\n",
      "100\n",
      "100\n",
      "100\n",
      "99\n"
     ]
    }
   ],
   "source": [
    "for i in range(100):\n",
    "    print(OrderSizeModel.sample(OrderSizeModel(), i))"
   ]
  },
  {
   "cell_type": "code",
   "execution_count": null,
   "metadata": {},
   "outputs": [],
   "source": [
    "config.keys()\n",
    "end_state = abides.run(config)\n"
   ]
  },
  {
   "cell_type": "code",
   "execution_count": null,
   "metadata": {},
   "outputs": [],
   "source": [
    "# Ex_0_L3_ITCH = Ex_0_order_book.get_l3_itch()\n",
    "# Ex0_best_bids = pd.DataFrame(Ex_0_L1[\"best_bids\"],columns=[\"time\",\"price\",\"qty\"])\n",
    "# Ex0_best_asks = pd.DataFrame(Ex_0_L1[\"best_asks\"],columns=[\"time\",\"price\",\"qty\"])\n",
    "# Ex0_best_bids['price'] = Ex0_best_bids['price'].div(100)\n",
    "# Ex0_best_asks['price'] = Ex0_best_asks['price'].div(100)\n",
    "\n",
    "# Ex_1_order_book = end_state[\"agents\"][1].order_books[\"ABM\"]\n",
    "# Ex_1_L1 = Ex_1_order_book.get_L1_snapshots()\n",
    "# Ex1_best_bids = pd.DataFrame(Ex_1_L1[\"best_bids\"],columns=[\"time\",\"price\",\"qty\"])\n",
    "# Ex1_best_asks = pd.DataFrame(Ex_1_L1[\"best_asks\"],columns=[\"time\",\"price\",\"qty\"])\n",
    "# Ex1_best_bids['price'] = Ex1_best_bids['price'].div(100)\n",
    "# Ex1_best_asks['price'] = Ex1_best_asks['price'].div(100)"
   ]
  },
  {
   "cell_type": "code",
   "execution_count": null,
   "metadata": {},
   "outputs": [],
   "source": [
    "Ex_0_order_book = end_state[\"agents\"][0].order_books[\"ABM\"]\n",
    "ex_0_ob_imbalance = Ex_0_order_book.get_imbalance()\n",
    "ex_0_name = Ex_0_order_book.owner.name"
   ]
  },
  {
   "cell_type": "code",
   "execution_count": null,
   "metadata": {},
   "outputs": [],
   "source": [
    "Ex_1_order_book = end_state[\"agents\"][1].order_books[\"ABM\"]\n",
    "ex_1_ob_imbalance = Ex_1_order_book.get_imbalance()\n",
    "ex_1_name = Ex_1_order_book.owner.name"
   ]
  },
  {
   "cell_type": "code",
   "execution_count": null,
   "metadata": {},
   "outputs": [],
   "source": [
    "logs_df = parse_logs_df( end_state )"
   ]
  },
  {
   "cell_type": "code",
   "execution_count": null,
   "metadata": {},
   "outputs": [],
   "source": [
    "logs_df.to_csv(\"logs_df.csv\")"
   ]
  },
  {
   "cell_type": "code",
   "execution_count": null,
   "metadata": {},
   "outputs": [],
   "source": [
    "executed_orders =  logs_df[logs_df.EventType==\"ORDER_EXECUTED\"]\n",
    "executed_orders = executed_orders.sort_values(by='EventTime', ascending=True)\n"
   ]
  },
  {
   "cell_type": "code",
   "execution_count": null,
   "metadata": {},
   "outputs": [],
   "source": [
    "ex_0_submitted_orders=executed_orders.loc[(executed_orders['exchange_id'] == 0.0)]\n",
    "ex_1_submitted_orders=executed_orders.loc[(executed_orders['exchange_id'] == 1.0)]"
   ]
  },
  {
   "cell_type": "code",
   "execution_count": null,
   "metadata": {},
   "outputs": [],
   "source": [
    "# create new column with only value 1 for each row\n",
    "ex_0_submitted_orders['count'] = 1\n",
    "ex_1_submitted_orders['count'] = 1\n",
    "\n",
    "ex_0_submitted_orders['cumsum_order_qty'] = ex_0_submitted_orders['count'].cumsum()\n",
    "ex_1_submitted_orders['cumsum_order_qty'] = ex_1_submitted_orders['count'].cumsum()\n",
    "\n",
    "ex_0_submitted_orders['cumsum_qty'] = ex_0_submitted_orders['quantity'].cumsum()\n",
    "ex_1_submitted_orders['cumsum_qty'] = ex_1_submitted_orders['quantity'].cumsum()\n",
    "\n",
    "ex_0_submitted_orders.drop(columns=['count'], inplace=True)\n",
    "ex_1_submitted_orders.drop(columns=['count'], inplace=True)\n",
    "\n"
   ]
  },
  {
   "cell_type": "code",
   "execution_count": null,
   "metadata": {},
   "outputs": [],
   "source": [
    "import plotly.graph_objects as go\n",
    "\n",
    "executed_order_qty = go.Figure()\n",
    "executed_order_volume = go.Figure()\n",
    "executed_order_qty.add_trace(go.Scatter(x=ex_0_submitted_orders.EventTime, y=ex_0_submitted_orders[\"cumsum_order_qty\"], mode='lines', name='Exchange 0 - Executed Order Quantity'))\n",
    "executed_order_qty.add_trace(go.Scatter(x=ex_1_submitted_orders.EventTime, y=ex_1_submitted_orders[\"cumsum_order_qty\"], mode='lines', name='Exchange 1 - Executed Order Quantity'))\n",
    "executed_order_volume.add_trace(go.Scatter(x=ex_0_submitted_orders.EventTime, y=ex_0_submitted_orders[\"cumsum_qty\"], mode='lines', name='Exchange 0 - Executed Order Volumes'))\n",
    "executed_order_volume.add_trace(go.Scatter(x=ex_1_submitted_orders.EventTime, y=ex_1_submitted_orders[\"cumsum_qty\"], mode='lines', name='Exchange 1 - Executed Order Volumes'))\n",
    "\n",
    "\n",
    "\n"
   ]
  }
 ],
 "metadata": {
  "kernelspec": {
   "display_name": "lambda",
   "language": "python",
   "name": "lambda"
  },
  "orig_nbformat": 4,
  "vscode": {
   "interpreter": {
    "hash": "ef371d0b219c869217c2696ca87699009b6d922c3201909a137f161aaa083863"
   }
  }
 },
 "nbformat": 4,
 "nbformat_minor": 2
}

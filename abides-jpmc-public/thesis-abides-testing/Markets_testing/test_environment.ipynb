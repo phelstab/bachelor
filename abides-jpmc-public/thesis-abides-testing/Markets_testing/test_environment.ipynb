{
 "cells": [
  {
   "cell_type": "code",
   "execution_count": 1,
   "metadata": {},
   "outputs": [],
   "source": [
    "import numpy as np\n",
    "import pandas as pd\n",
    "from matplotlib import pyplot as plt\n",
    "from flask import Flask\n",
    "import dash\n",
    "from dash import dcc, html\n",
    "import dash_bootstrap_components as dbc\n",
    "import plotly.express as px\n",
    "import plotly.graph_objects as go\n",
    "import datetime\n",
    "\n",
    "from abides_core import abides\n",
    "from abides_core.utils import parse_logs_df, ns_date, str_to_ns, fmt_ts\n",
    "from abides_markets.configs import rmsc06LIGHT"
   ]
  },
  {
   "cell_type": "code",
   "execution_count": 2,
   "metadata": {},
   "outputs": [
    {
     "name": "stderr",
     "output_type": "stream",
     "text": [
      "[23022] INFO abides Simulation Start Time: 2022-12-10 23:49:14.428884\n",
      "[23022] INFO abides_core.kernel --- Simulation time: 2021-02-05 00:00:00, messages processed: 0, wallclock elapsed: 0.00s ---\n",
      "[23022] INFO abides_core.kernel Event Queue elapsed: 0:00:02.968321, messages: 21,728, messages per second: 7320.0\n",
      "[23022] INFO abides_core.kernel Mean ending value by agent type:\n",
      "[23022] INFO abides_core.kernel ValueAgent: 178\n",
      "[23022] INFO abides_core.kernel Simulation ending!\n",
      "[23022] INFO abides Simulation End Time: 2022-12-10 23:49:18.005964\n",
      "[23022] INFO abides Time taken to run simulation: 0:00:03.577080\n"
     ]
    }
   ],
   "source": [
    "config = rmsc06LIGHT.build_config(\n",
    "    end_time=\"10:00:00\"\n",
    ")\n",
    "config.keys()\n",
    "end_state = abides.run(config)\n",
    "logs_df = parse_logs_df( end_state )"
   ]
  },
  {
   "cell_type": "code",
   "execution_count": 3,
   "metadata": {},
   "outputs": [],
   "source": [
    "\"\"\"\n",
    "    Get the Order book from the Exchange 0.\n",
    "\"\"\"\n",
    "Ex_0_order_book = end_state[\"agents\"][0].order_books[\"ABM\"]\n",
    "ex_0_name = Ex_0_order_book.owner.name\n",
    "ex_0_ob_imbalance = Ex_0_order_book.get_imbalance()\n",
    "Ex_0_L1 = Ex_0_order_book.get_L1_snapshots()\n",
    "Ex_0_L2 = Ex_0_order_book.get_L2_snapshots(nlevels=10)\n",
    "\n",
    "\"\"\"\n",
    "    Get the Order book from the Exchange 1.\n",
    "\"\"\"\n",
    "Ex_1_order_book = end_state[\"agents\"][1].order_books[\"ABM\"]\n",
    "ex_1_name = Ex_1_order_book.owner.name\n",
    "ex_1_ob_imbalance = Ex_1_order_book.get_imbalance()\n",
    "Ex_1_L1 = Ex_1_order_book.get_L1_snapshots()\n",
    "Ex_1_L2 = Ex_1_order_book.get_L2_snapshots(nlevels=10)"
   ]
  }
 ],
 "metadata": {
  "kernelspec": {
   "display_name": "Python 3.7.14 ('lambda': venv)",
   "language": "python",
   "name": "python3"
  },
  "language_info": {
   "codemirror_mode": {
    "name": "ipython",
    "version": 3
   },
   "file_extension": ".py",
   "mimetype": "text/x-python",
   "name": "python",
   "nbconvert_exporter": "python",
   "pygments_lexer": "ipython3",
   "version": "3.7.14"
  },
  "orig_nbformat": 4,
  "vscode": {
   "interpreter": {
    "hash": "72eea5cde4687ad52bb6ae82a6cc9e85cb2153518438d707a56d0eef5463c6d3"
   }
  }
 },
 "nbformat": 4,
 "nbformat_minor": 2
}

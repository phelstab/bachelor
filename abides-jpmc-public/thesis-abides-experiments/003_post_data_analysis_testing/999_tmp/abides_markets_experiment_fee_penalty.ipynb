{
 "cells": [
  {
   "cell_type": "code",
   "execution_count": 1,
   "metadata": {},
   "outputs": [],
   "source": [
    "import numpy as np\n",
    "import pandas as pd\n",
    "from matplotlib import pyplot as plt\n",
    "\n",
    "from abides_core import abides\n",
    "from abides_core.utils import parse_logs_df, ns_date, str_to_ns, fmt_ts\n",
    "from abides_markets.configs import rmsc05"
   ]
  },
  {
   "cell_type": "code",
   "execution_count": 4,
   "metadata": {},
   "outputs": [],
   "source": [
    "import random"
   ]
  },
  {
   "cell_type": "code",
   "execution_count": 43,
   "metadata": {},
   "outputs": [
    {
     "name": "stdout",
     "output_type": "stream",
     "text": [
      "RandomState(MT19937)\n",
      "51\n",
      "0.10774612731865707\n",
      "33\n"
     ]
    }
   ],
   "source": [
    "# pseudo randomization -> random_state with a seed\n",
    "# https://numpy.org/doc/stable/reference/random/legacy.html\n",
    "random_state = np.random.RandomState(42)\n",
    "print(random_state)\n",
    "print(random_state.randint(0, 100))\n",
    "\n",
    "# https://numpy.org/doc/stable/reference/random/generated/numpy.random.RandomState.exponential.html\n",
    "print(np.random.exponential(scale=1.0 / 14))\n",
    "\n",
    "# https://numpy.org/doc/stable/reference/random/generated/numpy.random.RandomState.randint.html\n",
    "print(np.random.randint(20,50))\n",
    "\n"
   ]
  },
  {
   "cell_type": "code",
   "execution_count": null,
   "metadata": {},
   "outputs": [],
   "source": [
    "# oracle.observe_price()\n",
    " # Called by a background agent that wishes to obtain a new fundamental observation,\n",
    "        # update its internal estimation parameters, and compute a new total valuation for the\n",
    "        # action it is considering.\n",
    "        # The agent obtains a new noisy observation of the current fundamental value\n",
    "        # and uses this to update its internal estimates in a Bayesian manner.\n",
    "# obs_t = self.oracle.observe_price(\n",
    "#     self.symbol,\n",
    "#     self.current_time,\n",
    "#     sigma_n=self.sigma_n,\n",
    "#     random_state=self.random_state,\n",
    "# )\n",
    "# # Update the agent's internal estimate of the fundamental value.\n",
    "\n",
    "\n"
   ]
  },
  {
   "cell_type": "code",
   "execution_count": null,
   "metadata": {
    "scrolled": false
   },
   "outputs": [],
   "source": [
    "config = rmsc05.build_config(\n",
    "    end_time=\"13:00:00\"\n",
    ")\n",
    "\n",
    "config.keys()\n",
    "\n",
    "end_state = abides.run(config)\n",
    "order_book = end_state[\"agents\"][0].order_books[\"ABM\"]"
   ]
  },
  {
   "cell_type": "code",
   "execution_count": null,
   "metadata": {},
   "outputs": [],
   "source": [
    "L1 = order_book.get_L1_snapshots()"
   ]
  },
  {
   "cell_type": "code",
   "execution_count": null,
   "metadata": {},
   "outputs": [],
   "source": [
    "best_bids = pd.DataFrame(L1[\"best_bids\"],columns=[\"time\",\"price\",\"qty\"])\n",
    "best_asks = pd.DataFrame(L1[\"best_asks\"],columns=[\"time\",\"price\",\"qty\"])\n",
    "\n",
    "## All times are in ns from 1970, remove the date component to put them in ns from midnight\n",
    "best_bids[\"time\"] = best_bids[\"time\"].apply( lambda x: x - ns_date(x) )\n",
    "best_asks[\"time\"] = best_asks[\"time\"].apply( lambda x: x - ns_date(x) )\n",
    "\n",
    "plt.plot(best_bids.time,best_bids.price)\n",
    "plt.plot(best_asks.time,best_asks.price)\n",
    "\n",
    "band = 100\n",
    "plt.ylim(100_000-band,100_100+band)\n",
    "\n",
    "time_mesh = np.arange(\n",
    "    str_to_ns(\"09:30:00\"),\n",
    "    str_to_ns(\"13:10:00\"),\n",
    "    1e9*60*10\n",
    ")\n",
    "_=plt.xticks(time_mesh, [ fmt_ts(time).split(\" \")[1] for time in time_mesh], rotation=60 )"
   ]
  },
  {
   "cell_type": "code",
   "execution_count": null,
   "metadata": {},
   "outputs": [],
   "source": [
    "L2 = order_book.get_L2_snapshots(nlevels=10)"
   ]
  },
  {
   "cell_type": "code",
   "execution_count": null,
   "metadata": {},
   "outputs": [],
   "source": [
    "## plotting fifth best bid and fifth best ask\n",
    "times = [ t - ns_date(t) for t in L2[\"times\"] ]\n",
    "plt.scatter( times, L2[\"bids\"][:,5,0], s=.5 )\n",
    "plt.scatter( times, L2[\"asks\"][:,5,0], s=.5 )\n",
    "\n",
    "band = 100\n",
    "plt.ylim(100_000-band,100_200+band)\n",
    "\n",
    "_=plt.xticks(time_mesh, [ fmt_ts(time).split(\" \")[1] for time in time_mesh], rotation=60 )"
   ]
  },
  {
   "cell_type": "code",
   "execution_count": null,
   "metadata": {},
   "outputs": [],
   "source": [
    "logs_df = parse_logs_df( end_state )"
   ]
  },
  {
   "cell_type": "code",
   "execution_count": null,
   "metadata": {},
   "outputs": [],
   "source": [
    "plt.hist( logs_df[ (logs_df.agent_type == \"NoiseAgent\") & (logs_df.EventType==\"ORDER_SUBMITTED\") ].EventTime.apply(lambda x: x - ns_date(x) )  )\n",
    "\n",
    "_=plt.xticks(time_mesh, [ fmt_ts(time).split(\" \")[1] for time in time_mesh], rotation=60 )\n"
   ]
  },
  {
   "cell_type": "code",
   "execution_count": null,
   "metadata": {},
   "outputs": [],
   "source": [
    "plt.hist( logs_df[ (logs_df.agent_type == \"ValueAgent\") & (logs_df.EventType==\"ORDER_SUBMITTED\") ].EventTime.apply(lambda x: x - ns_date(x) )  )\n",
    "\n",
    "_=plt.xticks(time_mesh, [ fmt_ts(time).split(\" \")[1] for time in time_mesh], rotation=60 )"
   ]
  },
  {
   "cell_type": "code",
   "execution_count": null,
   "metadata": {},
   "outputs": [],
   "source": [
    "plt.hist( logs_df[ (logs_df.agent_type == \"MomentumAgent\") & (logs_df.EventType==\"ORDER_SUBMITTED\") ].EventTime.apply(lambda x: x - ns_date(x) )  )\n",
    "\n",
    "_=plt.xticks(time_mesh, [ fmt_ts(time).split(\" \")[1] for time in time_mesh], rotation=60 )"
   ]
  },
  {
   "cell_type": "code",
   "execution_count": null,
   "metadata": {},
   "outputs": [],
   "source": [
    "df = logs_df[(logs_df.agent_type == \"MomentumAgent\")]\n",
    "df"
   ]
  },
  {
   "cell_type": "code",
   "execution_count": null,
   "metadata": {},
   "outputs": [],
   "source": [
    "df = logs_df[(logs_df.agent_type == \"MomentumAgent\")]\n",
    "df_start = df.loc[df['EventType'] == 'STARTING_CASH']\n",
    "df_start = df_start[['agent_id', 'ScalarEventValue']]\n",
    "df_end = df.loc[df['EventType'] == 'ENDING_CASH']\n",
    "df_end = df_end[['agent_id', 'ScalarEventValue']]\n",
    "df = pd.merge(df_start[['agent_id', 'ScalarEventValue']],\n",
    "                df_end[['agent_id', 'ScalarEventValue']],\n",
    "                how='left',\n",
    "                left_on=['agent_id'],\n",
    "                right_on=['agent_id'],\n",
    "                suffixes=['_Open',\n",
    "                         '_Close'])\n",
    "df['diff'] = df['ScalarEventValue_Open'] - df['ScalarEventValue_Close']\n",
    "\n",
    "df\n"
   ]
  },
  {
   "cell_type": "code",
   "execution_count": null,
   "metadata": {},
   "outputs": [],
   "source": [
    "df = logs_df[(logs_df.agent_type == \"MomentumAgent\")]\n",
    "df = df.loc[df['EventType'] == 'MARKED_TO_MARKET']\n",
    "\n",
    "df"
   ]
  },
  {
   "cell_type": "code",
   "execution_count": null,
   "metadata": {},
   "outputs": [],
   "source": [
    "df = logs_df[(logs_df.agent_type == \"MomentumAgent\")]\n",
    "#df = logs_df.loc[logs_df['EventType'] == 'MARKET_FEE']\n",
    "\n",
    "total_fee = df['fee'].sum()\n",
    "print(round(total_fee / 100, 2))"
   ]
  },
  {
   "cell_type": "code",
   "execution_count": null,
   "metadata": {},
   "outputs": [],
   "source": [
    "df = logs_df[(logs_df.agent_type == \"MomentumAgent\")]\n",
    "df = df.loc[df['EventType'] == 'ORDER_EXECUTED']\n",
    "\n",
    "df.to_csv('order_executed.csv')"
   ]
  },
  {
   "cell_type": "code",
   "execution_count": null,
   "metadata": {},
   "outputs": [],
   "source": [
    "L2 = order_book.get_L2_snapshots(nlevels=10)"
   ]
  },
  {
   "cell_type": "code",
   "execution_count": null,
   "metadata": {},
   "outputs": [],
   "source": [
    "time_mesh = np.arange(\n",
    "    str_to_ns(\"09:30:00\"),\n",
    "    str_to_ns(\"13:10:00\"),\n",
    "    1e9*60*10\n",
    ")\n",
    "\n",
    "## plotting fifth best bid and fifth best ask\n",
    "times = [ t - ns_date(t) for t in L2[\"times\"] ]\n",
    "plt.scatter( times, L2[\"bids\"][:,5,0], s=.5 )\n",
    "plt.scatter( times, L2[\"asks\"][:,5,0], s=.5 )\n",
    "\n",
    "band = 100\n",
    "plt.ylim(100_000-band,100_200+band)\n",
    "\n",
    "_=plt.xticks(time_mesh, [ fmt_ts(time).split(\" \")[1] for time in time_mesh], rotation=60 )"
   ]
  }
 ],
 "metadata": {
  "kernelspec": {
   "display_name": "lambda",
   "language": "python",
   "name": "lambda"
  },
  "language_info": {
   "codemirror_mode": {
    "name": "ipython",
    "version": 3
   },
   "file_extension": ".py",
   "mimetype": "text/x-python",
   "name": "python",
   "nbconvert_exporter": "python",
   "pygments_lexer": "ipython3",
   "version": "3.7.14"
  },
  "vscode": {
   "interpreter": {
    "hash": "72eea5cde4687ad52bb6ae82a6cc9e85cb2153518438d707a56d0eef5463c6d3"
   }
  }
 },
 "nbformat": 4,
 "nbformat_minor": 4
}

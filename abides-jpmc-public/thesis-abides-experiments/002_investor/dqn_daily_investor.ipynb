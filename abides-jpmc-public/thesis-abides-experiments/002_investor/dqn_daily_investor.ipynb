{
 "cells": [
  {
   "cell_type": "code",
   "execution_count": null,
   "metadata": {},
   "outputs": [],
   "source": [
    "import ray\n",
    "from ray import tune\n",
    "\n",
    "from ray.tune.logger import DEFAULT_LOGGERS\n",
    "from ray.tune.integration.wandb import WandbLoggerCallback\n",
    "import wandb\n",
    "\n",
    "api_key = wandb.api.api_key\n",
    "\n",
    "# Example with custom callbacks and WandB\n",
    "from abides_gym.envs.markets_execution_custom_metrics import MyCallbacks\n",
    "\n",
    "# Import to register environments\n",
    "import abides_gym\n",
    "\n",
    "from ray.tune.registry import register_env\n",
    "\n",
    "# import env\n",
    "from abides_gym.envs.markets_daily_investor_environment_v0 import (\n",
    "    SubGymMarketsDailyInvestorEnv_v0,\n",
    ")"
   ]
  },
  {
   "cell_type": "code",
   "execution_count": null,
   "metadata": {},
   "outputs": [],
   "source": [
    "register_env(\n",
    "    \"markets-daily_investor-v0\",\n",
    "    lambda config: SubGymMarketsDailyInvestorEnv_v0(**config),\n",
    ")\n",
    "\n",
    "ray.shutdown()\n",
    "ray.init(num_cpus=8)"
   ]
  },
  {
   "cell_type": "code",
   "execution_count": null,
   "metadata": {},
   "outputs": [],
   "source": [
    "\"\"\"\n",
    "PPO's default:\n",
    "sample_batch_size=200, batch_mode=truncate_episodes, training_batch_size=4000 -> workers collect batches of 200 ts (per worker), then the policy network gets updated using the 4000 last ts (in n minibatch-chunks of 128 (sgd_minibatch_size)).\n",
    "\n",
    "DQN's default:\n",
    "train_batch_size=32, sample_batch_size=4, timesteps_per_iteration=1000 -> workers collect chunks of 4 ts and add these to the replay buffer (of size buffer_size ts), then at each train call, at least 1000 ts are pulled altogether from the buffer (in batches of 32) to update the network.\n",
    "\"\"\"\n",
    "\n",
    "name_xp = \"dqn_daily_investor_v1_10\"\n",
    "tune.run(\n",
    "    \"DQN\",\n",
    "    name=name_xp,\n",
    "    resume=False,\n",
    "    stop={\"training_iteration\": 50},\n",
    "    checkpoint_at_end=True,\n",
    "    checkpoint_freq=5,\n",
    "    config={\n",
    "        \"env\": \"markets-investor-v0\",\n",
    "        \"env_config\": {\n",
    "            \"mkt_close\": \"16:00:00\",\n",
    "            \"timestep_duration\": tune.grid_search([\"30S\", \"60S\"]),\n",
    "            \"execution_window\": tune.grid_search([\"01:00:00\", \"00:30:00\"]),\n",
    "            \"parent_order_size\": tune.grid_search([10000, 20000, 30000]),\n",
    "            \"order_fixed_size\": tune.grid_search([200, 500, 1000]),\n",
    "            \"not_enough_reward_update\": tune.grid_search([0, -100]),\n",
    "            \"oracle_parameters\": {\n",
    "                \"l_1\": tune.grid_search([-100, 0, 100]),\n",
    "                \"sin_amp\": tune.grid_search(\n",
    "                    [\n",
    "                        0,\n",
    "                        100,\n",
    "                    ]\n",
    "                ),\n",
    "                \"sin_freq\": tune.grid_search([2, 10, 50]),\n",
    "                \"l_2\": tune.grid_search([0, -100]),\n",
    "                \"sigma\": tune.grid_search([0, 50]),\n",
    "            },\n",
    "        },\n",
    "        \"seed\": tune.grid_search([1, 2, 3]),\n",
    "        \"num_gpus\": 0,\n",
    "        \"num_workers\": 0,\n",
    "        \"hiddens\": [50, 20],\n",
    "        \"gamma\": 1,\n",
    "        \"lr\": tune.grid_search([0.001,0.0001, 0.01]),\n",
    "        \"framework\": \"torch\",\n",
    "        \"observation_filter\": \"MeanStdFilter\",\n",
    "    },\n",
    "    callbacks=[\n",
    "        WandbLoggerCallback(\n",
    "            project=\"abides_markets_investor_ABM\",\n",
    "            group=name_xp,\n",
    "            api_key=api_key,\n",
    "            log_config=False,\n",
    "        )\n",
    "    ],\n",
    ")\n"
   ]
  }
 ],
 "metadata": {
  "kernelspec": {
   "display_name": "Python 3.7.14 ('lambda': venv)",
   "language": "python",
   "name": "python3"
  },
  "language_info": {
   "codemirror_mode": {
    "name": "ipython",
    "version": 3
   },
   "file_extension": ".py",
   "mimetype": "text/x-python",
   "name": "python",
   "nbconvert_exporter": "python",
   "pygments_lexer": "ipython3",
   "version": "3.7.14"
  },
  "orig_nbformat": 4,
  "vscode": {
   "interpreter": {
    "hash": "72eea5cde4687ad52bb6ae82a6cc9e85cb2153518438d707a56d0eef5463c6d3"
   }
  }
 },
 "nbformat": 4,
 "nbformat_minor": 2
}

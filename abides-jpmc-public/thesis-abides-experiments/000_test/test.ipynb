{
 "cells": [
  {
   "cell_type": "code",
   "execution_count": null,
   "metadata": {},
   "outputs": [],
   "source": [
    "import numpy as np\n",
    "import pandas as pd\n",
    "from matplotlib import pyplot as plt\n",
    "\n",
    "# Web Dash\n",
    "from flask import Flask\n",
    "import dash\n",
    "from dash import dcc, html\n",
    "import dash_bootstrap_components as dbc\n",
    "import plotly.express as px\n",
    "import plotly.graph_objects as go\n",
    "import datetime\n",
    "\n",
    "from abides_core import abides\n",
    "from abides_core.utils import parse_logs_df, ns_date, str_to_ns, fmt_ts\n",
    "from abides_markets.configs import rmsc05\n",
    "\n",
    "config = rmsc05.build_config(\n",
    "    end_time=\"10:00:00\"\n",
    ")\n"
   ]
  },
  {
   "cell_type": "code",
   "execution_count": null,
   "metadata": {},
   "outputs": [],
   "source": [
    "config.keys()\n",
    "end_state = abides.run(config)\n"
   ]
  },
  {
   "cell_type": "code",
   "execution_count": null,
   "metadata": {},
   "outputs": [],
   "source": [
    "# Ex_0_L3_ITCH = Ex_0_order_book.get_l3_itch()\n",
    "# Ex0_best_bids = pd.DataFrame(Ex_0_L1[\"best_bids\"],columns=[\"time\",\"price\",\"qty\"])\n",
    "# Ex0_best_asks = pd.DataFrame(Ex_0_L1[\"best_asks\"],columns=[\"time\",\"price\",\"qty\"])\n",
    "# Ex0_best_bids['price'] = Ex0_best_bids['price'].div(100)\n",
    "# Ex0_best_asks['price'] = Ex0_best_asks['price'].div(100)\n",
    "\n",
    "# Ex_1_order_book = end_state[\"agents\"][1].order_books[\"ABM\"]\n",
    "# Ex_1_L1 = Ex_1_order_book.get_L1_snapshots()\n",
    "# Ex1_best_bids = pd.DataFrame(Ex_1_L1[\"best_bids\"],columns=[\"time\",\"price\",\"qty\"])\n",
    "# Ex1_best_asks = pd.DataFrame(Ex_1_L1[\"best_asks\"],columns=[\"time\",\"price\",\"qty\"])\n",
    "# Ex1_best_bids['price'] = Ex1_best_bids['price'].div(100)\n",
    "# Ex1_best_asks['price'] = Ex1_best_asks['price'].div(100)"
   ]
  },
  {
   "cell_type": "code",
   "execution_count": null,
   "metadata": {},
   "outputs": [],
   "source": [
    "Ex_0_order_book = end_state[\"agents\"][0].order_books[\"ABM\"]\n",
    "ex_0_ob_imbalance = Ex_0_order_book.get_imbalance()\n",
    "ex_0_name = Ex_0_order_book.owner.name"
   ]
  },
  {
   "cell_type": "code",
   "execution_count": null,
   "metadata": {},
   "outputs": [],
   "source": [
    "Ex_1_order_book = end_state[\"agents\"][1].order_books[\"ABM\"]\n",
    "ex_1_ob_imbalance = Ex_1_order_book.get_imbalance()\n",
    "ex_1_name = Ex_1_order_book.owner.name"
   ]
  },
  {
   "cell_type": "code",
   "execution_count": null,
   "metadata": {},
   "outputs": [],
   "source": [
    "logs_df = parse_logs_df( end_state )"
   ]
  },
  {
   "cell_type": "code",
   "execution_count": null,
   "metadata": {},
   "outputs": [],
   "source": [
    "logs_df.to_csv(\"logs_df.csv\")"
   ]
  },
  {
   "cell_type": "code",
   "execution_count": null,
   "metadata": {},
   "outputs": [],
   "source": [
    "executed_orders =  logs_df[logs_df.EventType==\"ORDER_EXECUTED\"]\n",
    "executed_orders = executed_orders.sort_values(by='EventTime', ascending=True)\n"
   ]
  },
  {
   "cell_type": "code",
   "execution_count": null,
   "metadata": {},
   "outputs": [],
   "source": [
    "ex_0_submitted_orders=executed_orders.loc[(executed_orders['exchange_id'] == 0.0)]\n",
    "ex_1_submitted_orders=executed_orders.loc[(executed_orders['exchange_id'] == 1.0)]"
   ]
  },
  {
   "cell_type": "code",
   "execution_count": null,
   "metadata": {},
   "outputs": [],
   "source": [
    "# create new column with only value 1 for each row\n",
    "ex_0_submitted_orders['count'] = 1\n",
    "ex_1_submitted_orders['count'] = 1\n",
    "\n",
    "ex_0_submitted_orders['cumsum_order_qty'] = ex_0_submitted_orders['count'].cumsum()\n",
    "ex_1_submitted_orders['cumsum_order_qty'] = ex_1_submitted_orders['count'].cumsum()\n",
    "\n",
    "ex_0_submitted_orders['cumsum_qty'] = ex_0_submitted_orders['quantity'].cumsum()\n",
    "ex_1_submitted_orders['cumsum_qty'] = ex_1_submitted_orders['quantity'].cumsum()\n",
    "\n",
    "ex_0_submitted_orders.drop(columns=['count'], inplace=True)\n",
    "ex_1_submitted_orders.drop(columns=['count'], inplace=True)\n",
    "\n"
   ]
  },
  {
   "cell_type": "code",
   "execution_count": null,
   "metadata": {},
   "outputs": [],
   "source": [
    "import plotly.graph_objects as go\n",
    "\n",
    "executed_order_qty = go.Figure()\n",
    "executed_order_volume = go.Figure()\n",
    "executed_order_qty.add_trace(go.Scatter(x=ex_0_submitted_orders.EventTime, y=ex_0_submitted_orders[\"cumsum_order_qty\"], mode='lines', name='Exchange 0 - Executed Order Quantity'))\n",
    "executed_order_qty.add_trace(go.Scatter(x=ex_1_submitted_orders.EventTime, y=ex_1_submitted_orders[\"cumsum_order_qty\"], mode='lines', name='Exchange 1 - Executed Order Quantity'))\n",
    "executed_order_volume.add_trace(go.Scatter(x=ex_0_submitted_orders.EventTime, y=ex_0_submitted_orders[\"cumsum_qty\"], mode='lines', name='Exchange 0 - Executed Order Volumes'))\n",
    "executed_order_volume.add_trace(go.Scatter(x=ex_1_submitted_orders.EventTime, y=ex_1_submitted_orders[\"cumsum_qty\"], mode='lines', name='Exchange 1 - Executed Order Volumes'))\n",
    "\n",
    "\n",
    "\n"
   ]
  }
 ],
 "metadata": {
  "kernelspec": {
   "display_name": "Python 3.7.14 ('lambda': venv)",
   "language": "python",
   "name": "python3"
  },
  "language_info": {
   "codemirror_mode": {
    "name": "ipython",
    "version": 3
   },
   "file_extension": ".py",
   "mimetype": "text/x-python",
   "name": "python",
   "nbconvert_exporter": "python",
   "pygments_lexer": "ipython3",
   "version": "3.7.14"
  },
  "orig_nbformat": 4,
  "vscode": {
   "interpreter": {
    "hash": "72eea5cde4687ad52bb6ae82a6cc9e85cb2153518438d707a56d0eef5463c6d3"
   }
  }
 },
 "nbformat": 4,
 "nbformat_minor": 2
}

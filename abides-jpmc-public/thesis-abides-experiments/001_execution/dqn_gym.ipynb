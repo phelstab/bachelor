{
 "cells": [
  {
   "cell_type": "code",
   "execution_count": null,
   "metadata": {},
   "outputs": [],
   "source": [
    "import ray\n",
    "from ray import tune\n",
    "\n",
    "from ray.tune.logger import DEFAULT_LOGGERS\n",
    "from ray.tune.integration.wandb import WandbLoggerCallback\n",
    "import wandb\n",
    "from abides_gym.envs.markets_execution_custom_metrics import MyCallbacks\n",
    "\n",
    "api_key = wandb.api.api_key\n",
    "\n",
    "# Example with custom callbacks and WandB\n",
    "# Import to register environments\n",
    "import abides_gym\n",
    "\n",
    "from ray.tune.registry import register_env\n",
    "\n",
    "# import env\n",
    "from abides_gym.envs.markets_execution_environment_v0 import (\n",
    "    SubGymMarketsExecutionEnv_v0,\n",
    ")"
   ]
  },
  {
   "cell_type": "code",
   "execution_count": null,
   "metadata": {},
   "outputs": [],
   "source": [
    "register_env(\n",
    "    \"markets-execution-v0\",\n",
    "    lambda config: SubGymMarketsExecutionEnv_v0(**config),\n",
    ")\n",
    "\n",
    "ray.shutdown()\n",
    "# limit memory to 0.5Gb, 10x == 5GB\n",
    "# https://stackoverflow.com/a/57796710\n",
    "#max_memory = ( (10**9) / 2 )\n",
    "ray.init(num_cpus=8)"
   ]
  },
  {
   "cell_type": "code",
   "execution_count": null,
   "metadata": {},
   "outputs": [],
   "source": [
    "ray.shutdown()\n",
    "ray.init()\n",
    "\n",
    "\"\"\"\n",
    "DQN's default:\n",
    "train_batch_size=32, sample_batch_size=4, timesteps_per_iteration=1000 -> workers collect chunks of 4 ts and add these to the replay buffer (of size buffer_size ts), then at each train call, at least 1000 ts are pulled altogether from the buffer (in batches of 32) to update the network.\n",
    "\"\"\"\n",
    "register_env(\n",
    "    \"markets-execution-v0\",\n",
    "    lambda config: SubGymMarketsExecutionEnv_v0(**config),\n",
    ")\n",
    "\n",
    "\n",
    "name_xp = \"dqn_execution_demo_3\" #change to your convenience\n",
    "\n",
    "tune.run(\n",
    "    \"DQN\",\n",
    "    name=name_xp,\n",
    "    resume=False,\n",
    "    stop={\"training_iteration\": 100},  \n",
    "    checkpoint_at_end=True,\n",
    "    checkpoint_freq=5,\n",
    "    config={\n",
    "        \"env\": \"markets-execution-v0\",\n",
    "        \"env_config\": {\"background_config\":\"rmsc04\",\n",
    "                        \"timestep_duration\":\"10S\",\n",
    "                        \"execution_window\": \"04:00:00\",\n",
    "                        \"parent_order_size\": 20000,\n",
    "                        \"order_fixed_size\": 50,\n",
    "                        \"not_enough_reward_update\":-100,#penalty\n",
    "            },\n",
    "        \"seed\": tune.grid_search([1, 2, 3]),\n",
    "        \"num_gpus\": 0,\n",
    "        \"num_workers\": 0,\n",
    "        \"hiddens\": [50, 20],\n",
    "        \"gamma\": 1,\n",
    "        \"lr\": tune.grid_search([0.001,0.0001, 0.01]),\n",
    "        \"framework\": \"torch\",\n",
    "        \"observation_filter\": \"MeanStdFilter\",\n",
    "    },\n",
    "    callbacks=[\n",
    "        WandbLoggerCallback(\n",
    "            project=\"abides_markets_execution_ABM\",\n",
    "            group=name_xp,\n",
    "            api_key=api_key,\n",
    "            log_config=False,\n",
    "        )\n",
    "    ],\n",
    ")"
   ]
  }
 ],
 "metadata": {
  "kernelspec": {
   "display_name": "Python 3.7.14 ('lambda': venv)",
   "language": "python",
   "name": "python3"
  },
  "language_info": {
   "codemirror_mode": {
    "name": "ipython",
    "version": 3
   },
   "file_extension": ".py",
   "mimetype": "text/x-python",
   "name": "python",
   "nbconvert_exporter": "python",
   "pygments_lexer": "ipython3",
   "version": "3.7.14"
  },
  "orig_nbformat": 4,
  "vscode": {
   "interpreter": {
    "hash": "cfa772973863312bbcf9c134ccfb009ab6df203cb1b9cbd8fb23eb1a3be02e67"
   }
  }
 },
 "nbformat": 4,
 "nbformat_minor": 2
}

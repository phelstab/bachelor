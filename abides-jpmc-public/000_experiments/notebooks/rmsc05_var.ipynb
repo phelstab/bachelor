{
 "cells": [
  {
   "cell_type": "code",
   "execution_count": null,
   "metadata": {},
   "outputs": [],
   "source": [
    "import numpy as np\n",
    "import pandas as pd\n",
    "from matplotlib import pyplot as plt\n",
    "\n",
    "# Web Dash\n",
    "from flask import Flask\n",
    "import dash\n",
    "from dash import dcc, html\n",
    "import dash_bootstrap_components as dbc\n",
    "import plotly.express as px\n",
    "import plotly.graph_objects as go\n",
    "import datetime\n",
    "\n",
    "from abides_core import abides\n",
    "from abides_core.utils import parse_logs_df, ns_date, str_to_ns, fmt_ts\n",
    "from abides_markets.configs import rmsc05VAR"
   ]
  },
  {
   "cell_type": "code",
   "execution_count": null,
   "metadata": {},
   "outputs": [],
   "source": [
    "config = rmsc05VAR.build_config(\n",
    "    end_time=\"10:00:00\",\n",
    "    seed=1337,\n",
    ")\n",
    "\n",
    "config.keys()\n",
    "end_state = abides.run(config)\n",
    "\n",
    "logs_df = parse_logs_df( end_state )"
   ]
  },
  {
   "cell_type": "code",
   "execution_count": null,
   "metadata": {},
   "outputs": [],
   "source": [
    "\"\"\"\n",
    "    Get the Order book from the Exchange 0.\n",
    "\"\"\"\n",
    "Ex_0_order_book = end_state[\"agents\"][0].order_books[\"ABM\"]\n",
    "ex_0_name = Ex_0_order_book.owner.name\n",
    "ex_0_ob_imbalance = Ex_0_order_book.get_imbalance()\n",
    "Ex_0_L1 = Ex_0_order_book.get_L1_snapshots()\n",
    "Ex_0_L2 = Ex_0_order_book.get_L2_snapshots(nlevels=10)\n"
   ]
  },
  {
   "cell_type": "code",
   "execution_count": null,
   "metadata": {},
   "outputs": [],
   "source": [
    "times = [ t - ns_date(t) for t in Ex_0_L2[\"times\"] ]\n",
    "times = list(map(int, times))\n",
    "\n",
    "\n",
    "bid_prices = Ex_0_L2[\"bids\"][:,0,0]\n",
    "ask_prices = Ex_0_L2[\"asks\"][:,0,0]\n",
    "bid_prices = np.divide(bid_prices, 100)\n",
    "ask_prices = np.divide(ask_prices, 100)\n",
    "\n",
    "\n",
    "Ex_0_fig = go.Figure(layout_yaxis_range =[998, 1006])\n",
    "Ex_0_fig.add_trace(go.Scatter(x=times, y=bid_prices, mode='markers', marker_size=3, name='best_bids'))\n",
    "Ex_0_fig.add_trace(go.Scatter(x=times, y=ask_prices, mode='markers', marker_size=3, name='best_asks'))\n",
    "Ex_0_fig.update_layout(title='Best Bid / Ask Prices Exchange 0', xaxis_title='Time', yaxis_title='Price')\n"
   ]
  },
  {
   "cell_type": "code",
   "execution_count": null,
   "metadata": {},
   "outputs": [],
   "source": [
    "\n",
    "\"\"\"\n",
    "    Price / Timeseries Plotting\n",
    "\"\"\"\n",
    "Ex0_best_bids = pd.DataFrame(Ex_0_L1[\"best_bids\"],columns=[\"time\",\"price\",\"qty\"])\n",
    "Ex0_best_asks = pd.DataFrame(Ex_0_L1[\"best_asks\"],columns=[\"time\",\"price\",\"qty\"])\n",
    "# divide all prices by 100 \n",
    "Ex0_best_bids['price'] = Ex0_best_bids['price'].div(100)\n",
    "Ex0_best_asks['price'] = Ex0_best_asks['price'].div(100)\n",
    "# remove all nan values\n",
    "# Ex0_best_bids = Ex0_best_bids.dropna()\n",
    "# Ex0_best_asks = Ex0_best_asks.dropna()\n",
    "# remove all time duplicates\n",
    "# Ex0_best_bids = Ex0_best_bids.drop_duplicates(subset=['time'])\n",
    "# Ex0_best_asks = Ex0_best_asks.drop_duplicates(subset=['time'])\n",
    "\n",
    "\n",
    "Ex_0_fig = go.Figure()\n",
    "Ex_0_fig.add_trace(go.Scatter(x=Ex0_best_bids[\"time\"], y=Ex0_best_bids[\"price\"], mode='markers', marker_size=3, name='best_bids'))\n",
    "Ex_0_fig.add_trace(go.Scatter(x=Ex0_best_bids[\"time\"], y=Ex0_best_asks[\"price\"], mode='markers', marker_size=3, name='best_asks'))\n",
    "Ex_0_fig.update_layout(title='Order book of Exchange 0', xaxis_title='Time', yaxis_title='Price')"
   ]
  },
  {
   "cell_type": "code",
   "execution_count": null,
   "metadata": {},
   "outputs": [],
   "source": [
    "executed_orders =  logs_df[logs_df.EventType==\"ORDER_EXECUTED\"]\n",
    "executed_orders = executed_orders.sort_values(by='EventTime', ascending=True)"
   ]
  },
  {
   "cell_type": "code",
   "execution_count": null,
   "metadata": {},
   "outputs": [],
   "source": [
    "# executed_orders = executed_orders.sort_values(by='EventTime', ascending=True)\n",
    "# executed_orders['count'] = 1\n",
    "# executed_orders['cumsum_order_qty'] = executed_orders['count'].cumsum()\n",
    "# executed_orders['cumsum_qty'] = executed_orders['quantity'].cumsum()\n",
    "# executed_orders.drop(columns=['count'], inplace=True)\n",
    "\n",
    "# fig_executed_order = go.Figure()\n",
    "# fig_executed_order.add_trace(go.Scatter(x=executed_orders.EventTime, y=executed_orders[\"cumsum_order_qty\"], mode='lines', name='Exchange 0 - Executed Order Quantity'))\n",
    "# fig_executed_order.add_trace(go.Scatter(x=executed_orders.EventTime, y=executed_orders[\"cumsum_qty\"], mode='lines', name='Exchange 0 - Executed Order Volumes'))\n",
    "\n",
    "\n",
    "# ex_0_submitted_orders['count'] = 1\n",
    "# ex_0_submitted_orders['cumsum_order_qty'] = ex_0_submitted_orders['count'].cumsum()\n",
    "# ex_0_submitted_orders['cumsum_qty'] = ex_0_submitted_orders['quantity'].cumsum()\n",
    "# ex_0_submitted_orders.drop(columns=['count'], inplace=True)\n",
    "\n",
    "\n",
    "\n",
    "\n",
    "# executed_order_qty = go.Figure()\n",
    "# executed_order_volume = go.Figure()\n",
    "# executed_order_qty.add_trace(go.Scatter(x=ex_0_submitted_orders.EventTime, y=ex_0_submitted_orders[\"cumsum_order_qty\"], mode='lines', name='Exchange 0 - Executed Order Quantity'))\n",
    "# executed_order_volume.add_trace(go.Scatter(x=ex_0_submitted_orders.EventTime, y=ex_0_submitted_orders[\"cumsum_qty\"], mode='lines', name='Exchange 0 - Executed Order Volumes'))\n",
    "\n",
    "\n",
    "# executed_order_volume"
   ]
  },
  {
   "cell_type": "code",
   "execution_count": null,
   "metadata": {},
   "outputs": [],
   "source": [
    "\"\"\"\n",
    "    Calculating the realized exchange fees for the exchange\n",
    "\n",
    "\"\"\"\n",
    "\n",
    "executed_orders =  logs_df[logs_df.EventType==\"ORDER_EXECUTED\"]\n",
    "executed_orders = executed_orders[executed_orders.EventTime != 0]\n",
    "executed_orders = executed_orders.sort_values(by='EventTime', ascending=True)\n",
    "\n",
    "# create a cumsum column of order_fee\n",
    "\n",
    "executed_orders['count'] = 1\n",
    "executed_orders['cumsum_order_qty'] = executed_orders['count'].cumsum()\n",
    "executed_orders['cumsum_qty'] = executed_orders['quantity'].cumsum()\n",
    "executed_orders.drop(columns=['count'], inplace=True)\n",
    "\n",
    "\n",
    "# divide order_fee by 100\n",
    "executed_orders['order_fee'] = executed_orders['order_fee'].div(100)\n",
    "executed_orders['cumsum_order_fee'] = executed_orders['order_fee'].cumsum()\n",
    "\n",
    "fig_executed_order = go.Figure()\n",
    "fig_executed_order.add_trace(go.Scatter(x=executed_orders.EventTime, y=executed_orders['cumsum_order_fee'], mode='lines', name='Exchange 0 - Market Fees Turnover'))\n",
    "\n",
    "fig_executed_order"
   ]
  },
  {
   "attachments": {},
   "cell_type": "markdown",
   "metadata": {},
   "source": [
    "# Testing"
   ]
  },
  {
   "cell_type": "code",
   "execution_count": null,
   "metadata": {},
   "outputs": [],
   "source": [
    "order_book = end_state[\"agents\"][0].order_books[\"ABM\"]\n",
    "L1 = order_book.get_L1_snapshots()\n",
    "best_bids = pd.DataFrame(L1[\"best_bids\"],columns=[\"time\",\"price\",\"qty\"])\n",
    "best_asks = pd.DataFrame(L1[\"best_asks\"],columns=[\"time\",\"price\",\"qty\"])\n",
    "\n",
    "## All times are in ns from 1970, remove the date component to put them in ns from midnight\n",
    "best_bids[\"time\"] = best_bids[\"time\"].apply( lambda x: x - ns_date(x) )\n",
    "best_asks[\"time\"] = best_asks[\"time\"].apply( lambda x: x - ns_date(x) )\n",
    "\n",
    "plt.plot(best_bids.time,best_bids.price)\n",
    "plt.plot(best_asks.time,best_asks.price)\n",
    "\n",
    "band = 100\n",
    "plt.ylim(100_000-band,100_000+band)\n",
    "\n",
    "time_mesh = np.arange(\n",
    "    str_to_ns(\"09:30:00\"),\n",
    "    str_to_ns(\"10:10:00\"),\n",
    "    1e9*60*10\n",
    ")\n",
    "_=plt.xticks(time_mesh, [ fmt_ts(time).split(\" \")[1] for time in time_mesh], rotation=60 )"
   ]
  },
  {
   "cell_type": "code",
   "execution_count": null,
   "metadata": {},
   "outputs": [],
   "source": [
    "# filter order submitted and order executed from logs\n",
    "order_submitted = logs_df[logs_df.EventType.isin([\"ORDER_SUBMITTED\"])]\n",
    "order_executed = logs_df[logs_df.EventType.isin([\"ORDER_EXECUTED\"])]\n",
    "# sum quantity grouped by id in order_executed and create new dataframe with columns order_id quantity\n",
    "order_executed_sum = order_executed.groupby(['order_id'])['quantity'].sum().reset_index()\n",
    "\n",
    "# substract order_submitted quantity from order_executed_sum quantity and add new column to partial_left\n",
    "order_submitted['partial_left'] = order_submitted['quantity'].sub(order_submitted['order_id'].map(order_executed_sum.set_index('order_id')['quantity']))\n",
    "\n",
    "not_fully_executed = order_submitted[order_submitted.partial_left != 0]\n",
    "only_fully_executed = order_submitted[order_submitted.partial_left == 0]\n",
    "count_not_fully_executed = len(order_submitted[order_submitted.partial_left != 0])\n",
    "# new dataframe from order_executed but only with order_id in only_full_executed and reset index \n",
    "order_executed_only_full_executed = order_executed[order_executed.order_id.isin(only_fully_executed.order_id)]\n",
    "\n",
    "# add order_quanity from only_fully_executed to order_executed_only_full_executed as new column with \"placed_quantity\"\n",
    "order_executed_only_full_executed['placed_quantity'] = order_executed_only_full_executed['order_id'].map(only_fully_executed.set_index('order_id')['quantity'])\n",
    "\n",
    "# filter order_executed_only_full_executed by order_id but only take the latest time_placed order\n",
    "order_executed_only_full_executed = order_executed_only_full_executed.groupby(['order_id']).tail(1).reset_index()\n",
    "# time placed - time_executed and add new column to order_executed_only_full_executed\n",
    "order_executed_only_full_executed['speed_of_fill'] = ((order_executed_only_full_executed['time_executed'] - order_executed_only_full_executed['time_placed']).div(1000000))\n",
    "\n",
    "# Likelihood of a fill == fill rate Fill rate = (partial_execution / placed_quantity) * 100\n",
    "order_executed_only_full_executed['fill_rate'] = (order_executed_only_full_executed['quantity'].div(order_executed_only_full_executed['placed_quantity'])).mul(100)\n",
    "\n",
    "# average of speed_of_fill \n",
    "average_speed_of_fill = order_executed_only_full_executed['speed_of_fill'].mean()\n",
    "\n",
    "# average of fill_rate\n",
    "average_fill_rate = order_executed_only_full_executed['fill_rate'].mean()\n",
    "\n",
    "\n",
    "\n"
   ]
  },
  {
   "cell_type": "code",
   "execution_count": null,
   "metadata": {},
   "outputs": [],
   "source": [
    "order_executed_only_full_executed[\"time_placed\"]"
   ]
  },
  {
   "cell_type": "code",
   "execution_count": null,
   "metadata": {},
   "outputs": [],
   "source": [
    "# speed of fills\n",
    "average_speed_of_fill"
   ]
  },
  {
   "cell_type": "code",
   "execution_count": null,
   "metadata": {},
   "outputs": [],
   "source": [
    "# fill rate (average % of orders that are filled) (partial_execution / placed_quantity) * 100\n",
    "average_fill_rate"
   ]
  },
  {
   "cell_type": "code",
   "execution_count": null,
   "metadata": {},
   "outputs": [],
   "source": [
    "order_executed_only_full_executed = order_executed_only_full_executed.sort_values(by=['time_executed']).reset_index()\n",
    "\n",
    "fig_speed = go.Figure()\n",
    "fig_speed.add_trace(go.Scatter(x=order_executed_only_full_executed.time_executed, y=order_executed_only_full_executed.speed_of_fill, mode='lines', name='Speed of executions (ms)'))\n",
    "\n",
    "fig_speed.update_layout(title='Speed of executions', xaxis_title='Time', yaxis_title='speed in (ms)')\n",
    "\n",
    "\n",
    "fig_fill_rate= go.Figure()\n",
    "fig_fill_rate.add_trace(go.Scatter(x=order_executed_only_full_executed.time_executed, y=order_executed_only_full_executed.fill_rate, mode='lines', name='Fill rates of executions'))\n",
    "\n",
    "fig_fill_rate.update_layout(title='Fill rate of executions', xaxis_title='Time', yaxis_title='% of orders filled')\n",
    "fig_fill_rate"
   ]
  },
  {
   "cell_type": "code",
   "execution_count": null,
   "metadata": {},
   "outputs": [],
   "source": [
    "execution_spreads = logs_df[logs_df.EventType.isin([\"EXECUTION_SPREAD\"])]\n",
    "# sort by time ascending and reset index\n",
    "execution_spreads = execution_spreads.sort_values(by=['time']).reset_index()\n",
    "\n",
    "\n",
    "# average of realized spreads \n",
    "average_realized_spreads = execution_spreads['realized_spread'].mean()\n",
    "\n",
    "# average of effective spreads\n",
    "average_effective_spreads = execution_spreads['effective_spread'].mean()\n",
    "\n",
    "# average of quoted spreads\n",
    "average_quoted_spreads = execution_spreads['quoted_spread'].mean()\n",
    "\n",
    "fig_spreads = go.Figure()\n",
    "fig_spreads.add_trace(go.Scatter(x=execution_spreads.time, y=execution_spreads['realized_spread'], mode='lines', name='% Realized spreads'))\n",
    "fig_spreads.add_trace(go.Scatter(x=execution_spreads.time, y=execution_spreads['effective_spread'], mode='lines', name='% Effective spreads'))\n",
    "fig_spreads.add_trace(go.Scatter(x=execution_spreads.time, y=execution_spreads['quoted_spread'], mode='lines', name='% Quoted spreads'))\n",
    "fig_spreads.update_layout(title='Spreads', xaxis_title='Time', yaxis_title='spreads')\n",
    "fig_spreads\n"
   ]
  },
  {
   "cell_type": "code",
   "execution_count": null,
   "metadata": {},
   "outputs": [],
   "source": []
  }
 ],
 "metadata": {
  "kernelspec": {
   "display_name": "lambda",
   "language": "python",
   "name": "python3"
  },
  "language_info": {
   "codemirror_mode": {
    "name": "ipython",
    "version": 3
   },
   "file_extension": ".py",
   "mimetype": "text/x-python",
   "name": "python",
   "nbconvert_exporter": "python",
   "pygments_lexer": "ipython3",
   "version": "3.7.14"
  },
  "orig_nbformat": 4,
  "vscode": {
   "interpreter": {
    "hash": "72eea5cde4687ad52bb6ae82a6cc9e85cb2153518438d707a56d0eef5463c6d3"
   }
  }
 },
 "nbformat": 4,
 "nbformat_minor": 2
}
